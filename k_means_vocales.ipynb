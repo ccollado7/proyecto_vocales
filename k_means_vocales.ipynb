{
  "cells": [
    {
      "cell_type": "markdown",
      "metadata": {
        "id": "view-in-github",
        "colab_type": "text"
      },
      "source": [
        "<a href=\"https://colab.research.google.com/github/ccollado7/proyecto_vocales/blob/main/k_means_vocales.ipynb\" target=\"_parent\"><img src=\"https://colab.research.google.com/assets/colab-badge.svg\" alt=\"Open In Colab\"/></a>"
      ]
    },
    {
      "cell_type": "markdown",
      "metadata": {
        "id": "M74XfqldpskO"
      },
      "source": [
        "## 1. Modulos"
      ]
    },
    {
      "cell_type": "code",
      "source": [
        "import sys\n",
        "import os.path\n",
        "from os import path\n",
        "\n",
        "def is_runing_into_colab_env():\n",
        "    try:\n",
        "        import google.colab\n",
        "        return True\n",
        "    except:\n",
        "        return False\n",
        "\n",
        "if is_runing_into_colab_env():\n",
        "    if path.exists('/content/proyecto_vocales'):\n",
        "        print('Pull...\\n')\n",
        "        !cd proyecto_vocales; git pull origin main\n",
        "    else:\n",
        "        print('Clone...\\n')\n",
        "        !git clone https://github.com/ccollado7/proyecto_vocales\n",
        "\n",
        "if is_runing_into_colab_env():\n",
        "    !pip install praat-parselmouth"
      ],
      "metadata": {
        "id": "ZXLxHd_tlEGL",
        "outputId": "3be94d93-2834-4d63-e689-bcc760735138",
        "colab": {
          "base_uri": "https://localhost:8080/"
        }
      },
      "execution_count": 1,
      "outputs": [
        {
          "output_type": "stream",
          "name": "stdout",
          "text": [
            "Clone...\n",
            "\n",
            "Cloning into 'proyecto_vocales'...\n",
            "remote: Enumerating objects: 226, done.\u001b[K\n",
            "remote: Counting objects: 100% (222/222), done.\u001b[K\n",
            "remote: Compressing objects: 100% (177/177), done.\u001b[K\n",
            "remote: Total 226 (delta 67), reused 187 (delta 39), pack-reused 4\u001b[K\n",
            "Receiving objects: 100% (226/226), 1.20 MiB | 21.22 MiB/s, done.\n",
            "Resolving deltas: 100% (67/67), done.\n",
            "Collecting praat-parselmouth\n",
            "  Downloading praat_parselmouth-0.4.0-cp37-cp37m-manylinux2010_x86_64.whl (10.7 MB)\n",
            "\u001b[K     |████████████████████████████████| 10.7 MB 22.9 MB/s \n",
            "\u001b[?25hRequirement already satisfied: numpy>=1.7.0 in /usr/local/lib/python3.7/dist-packages (from praat-parselmouth) (1.19.5)\n",
            "Installing collected packages: praat-parselmouth\n",
            "Successfully installed praat-parselmouth-0.4.0\n"
          ]
        }
      ]
    },
    {
      "cell_type": "code",
      "source": [
        "sys.path.append('/content/proyecto_vocales/src')"
      ],
      "metadata": {
        "id": "5C1mF21kmDBr"
      },
      "execution_count": 2,
      "outputs": []
    },
    {
      "cell_type": "code",
      "execution_count": 3,
      "metadata": {
        "id": "aRfqiIhfZWmg",
        "outputId": "3f699625-9f27-4e9b-d547-5ae3a228c41d",
        "colab": {
          "base_uri": "https://localhost:8080/"
        }
      },
      "outputs": [
        {
          "output_type": "stream",
          "name": "stdout",
          "text": [
            "Requirement already satisfied: praat-parselmouth in /usr/local/lib/python3.7/dist-packages (0.4.0)\n",
            "Requirement already satisfied: numpy>=1.7.0 in /usr/local/lib/python3.7/dist-packages (from praat-parselmouth) (1.19.5)\n"
          ]
        }
      ],
      "source": [
        "#Generales\n",
        "import pandas as pd\n",
        "import matplotlib.pyplot as plt\n",
        "import numpy as np\n",
        "import seaborn as sns\n",
        "\n",
        "import io\n",
        "import glob\n",
        "from pathlib import Path\n",
        "\n",
        "#Audio\n",
        "!pip install praat-parselmouth\n",
        "from parselmouth import praat\n",
        "import parselmouth \n",
        "\n",
        "#propios\n",
        "from fwav2df import extract_formants, \\\n",
        "                    prepare_dataframe, \\\n",
        "                    read_audios_procesados\n",
        "\n",
        "from graph import graph_svm\n",
        "\n",
        "#No Supervisados\n",
        "from sklearn.cluster import KMeans\n",
        "from sklearn import svm\n",
        "\n",
        "#Supervisados\n",
        "from sklearn.model_selection import train_test_split\n",
        "from sklearn.compose import ColumnTransformer\n",
        "from sklearn.preprocessing import StandardScaler\n",
        "from sklearn.preprocessing import LabelEncoder"
      ]
    },
    {
      "cell_type": "markdown",
      "metadata": {
        "id": "IcKV5MsDpskY"
      },
      "source": [
        "## 2. Lectura de datos - Dataframe"
      ]
    },
    {
      "cell_type": "markdown",
      "metadata": {
        "id": "bhlmOU6io8_r"
      },
      "source": [
        "Leer archivos ya procesados y armar el dataset"
      ]
    },
    {
      "cell_type": "code",
      "execution_count": 4,
      "metadata": {
        "id": "tbXKNZtRpska"
      },
      "outputs": [],
      "source": [
        "url = 'https://raw.githubusercontent.com/ccollado7/proyecto_vocales/main/data/raw/features_'\n",
        "df=read_audios_procesados(url)"
      ]
    },
    {
      "cell_type": "code",
      "execution_count": 5,
      "metadata": {
        "id": "wIUdPAhbgx0I",
        "outputId": "a0d5b550-59b3-45f0-c760-7ee6e50934ba",
        "colab": {
          "base_uri": "https://localhost:8080/",
          "height": 206
        }
      },
      "outputs": [
        {
          "output_type": "execute_result",
          "data": {
            "text/html": [
              "\n",
              "  <div id=\"df-ebdec977-5625-44b2-b1a3-693cf92a7f70\">\n",
              "    <div class=\"colab-df-container\">\n",
              "      <div>\n",
              "<style scoped>\n",
              "    .dataframe tbody tr th:only-of-type {\n",
              "        vertical-align: middle;\n",
              "    }\n",
              "\n",
              "    .dataframe tbody tr th {\n",
              "        vertical-align: top;\n",
              "    }\n",
              "\n",
              "    .dataframe thead th {\n",
              "        text-align: right;\n",
              "    }\n",
              "</style>\n",
              "<table border=\"1\" class=\"dataframe\">\n",
              "  <thead>\n",
              "    <tr style=\"text-align: right;\">\n",
              "      <th></th>\n",
              "      <th>0</th>\n",
              "      <th>1</th>\n",
              "      <th>target</th>\n",
              "    </tr>\n",
              "  </thead>\n",
              "  <tbody>\n",
              "    <tr>\n",
              "      <th>0</th>\n",
              "      <td>1002.20</td>\n",
              "      <td>1549.3</td>\n",
              "      <td>A</td>\n",
              "    </tr>\n",
              "    <tr>\n",
              "      <th>1</th>\n",
              "      <td>961.18</td>\n",
              "      <td>1440.7</td>\n",
              "      <td>A</td>\n",
              "    </tr>\n",
              "    <tr>\n",
              "      <th>2</th>\n",
              "      <td>810.06</td>\n",
              "      <td>1250.7</td>\n",
              "      <td>A</td>\n",
              "    </tr>\n",
              "    <tr>\n",
              "      <th>3</th>\n",
              "      <td>779.54</td>\n",
              "      <td>1214.8</td>\n",
              "      <td>A</td>\n",
              "    </tr>\n",
              "    <tr>\n",
              "      <th>4</th>\n",
              "      <td>948.24</td>\n",
              "      <td>1506.8</td>\n",
              "      <td>A</td>\n",
              "    </tr>\n",
              "  </tbody>\n",
              "</table>\n",
              "</div>\n",
              "      <button class=\"colab-df-convert\" onclick=\"convertToInteractive('df-ebdec977-5625-44b2-b1a3-693cf92a7f70')\"\n",
              "              title=\"Convert this dataframe to an interactive table.\"\n",
              "              style=\"display:none;\">\n",
              "        \n",
              "  <svg xmlns=\"http://www.w3.org/2000/svg\" height=\"24px\"viewBox=\"0 0 24 24\"\n",
              "       width=\"24px\">\n",
              "    <path d=\"M0 0h24v24H0V0z\" fill=\"none\"/>\n",
              "    <path d=\"M18.56 5.44l.94 2.06.94-2.06 2.06-.94-2.06-.94-.94-2.06-.94 2.06-2.06.94zm-11 1L8.5 8.5l.94-2.06 2.06-.94-2.06-.94L8.5 2.5l-.94 2.06-2.06.94zm10 10l.94 2.06.94-2.06 2.06-.94-2.06-.94-.94-2.06-.94 2.06-2.06.94z\"/><path d=\"M17.41 7.96l-1.37-1.37c-.4-.4-.92-.59-1.43-.59-.52 0-1.04.2-1.43.59L10.3 9.45l-7.72 7.72c-.78.78-.78 2.05 0 2.83L4 21.41c.39.39.9.59 1.41.59.51 0 1.02-.2 1.41-.59l7.78-7.78 2.81-2.81c.8-.78.8-2.07 0-2.86zM5.41 20L4 18.59l7.72-7.72 1.47 1.35L5.41 20z\"/>\n",
              "  </svg>\n",
              "      </button>\n",
              "      \n",
              "  <style>\n",
              "    .colab-df-container {\n",
              "      display:flex;\n",
              "      flex-wrap:wrap;\n",
              "      gap: 12px;\n",
              "    }\n",
              "\n",
              "    .colab-df-convert {\n",
              "      background-color: #E8F0FE;\n",
              "      border: none;\n",
              "      border-radius: 50%;\n",
              "      cursor: pointer;\n",
              "      display: none;\n",
              "      fill: #1967D2;\n",
              "      height: 32px;\n",
              "      padding: 0 0 0 0;\n",
              "      width: 32px;\n",
              "    }\n",
              "\n",
              "    .colab-df-convert:hover {\n",
              "      background-color: #E2EBFA;\n",
              "      box-shadow: 0px 1px 2px rgba(60, 64, 67, 0.3), 0px 1px 3px 1px rgba(60, 64, 67, 0.15);\n",
              "      fill: #174EA6;\n",
              "    }\n",
              "\n",
              "    [theme=dark] .colab-df-convert {\n",
              "      background-color: #3B4455;\n",
              "      fill: #D2E3FC;\n",
              "    }\n",
              "\n",
              "    [theme=dark] .colab-df-convert:hover {\n",
              "      background-color: #434B5C;\n",
              "      box-shadow: 0px 1px 3px 1px rgba(0, 0, 0, 0.15);\n",
              "      filter: drop-shadow(0px 1px 2px rgba(0, 0, 0, 0.3));\n",
              "      fill: #FFFFFF;\n",
              "    }\n",
              "  </style>\n",
              "\n",
              "      <script>\n",
              "        const buttonEl =\n",
              "          document.querySelector('#df-ebdec977-5625-44b2-b1a3-693cf92a7f70 button.colab-df-convert');\n",
              "        buttonEl.style.display =\n",
              "          google.colab.kernel.accessAllowed ? 'block' : 'none';\n",
              "\n",
              "        async function convertToInteractive(key) {\n",
              "          const element = document.querySelector('#df-ebdec977-5625-44b2-b1a3-693cf92a7f70');\n",
              "          const dataTable =\n",
              "            await google.colab.kernel.invokeFunction('convertToInteractive',\n",
              "                                                     [key], {});\n",
              "          if (!dataTable) return;\n",
              "\n",
              "          const docLinkHtml = 'Like what you see? Visit the ' +\n",
              "            '<a target=\"_blank\" href=https://colab.research.google.com/notebooks/data_table.ipynb>data table notebook</a>'\n",
              "            + ' to learn more about interactive tables.';\n",
              "          element.innerHTML = '';\n",
              "          dataTable['output_type'] = 'display_data';\n",
              "          await google.colab.output.renderOutput(dataTable, element);\n",
              "          const docLink = document.createElement('div');\n",
              "          docLink.innerHTML = docLinkHtml;\n",
              "          element.appendChild(docLink);\n",
              "        }\n",
              "      </script>\n",
              "    </div>\n",
              "  </div>\n",
              "  "
            ],
            "text/plain": [
              "         0       1 target\n",
              "0  1002.20  1549.3      A\n",
              "1   961.18  1440.7      A\n",
              "2   810.06  1250.7      A\n",
              "3   779.54  1214.8      A\n",
              "4   948.24  1506.8      A"
            ]
          },
          "metadata": {},
          "execution_count": 5
        }
      ],
      "source": [
        "df.head()"
      ]
    },
    {
      "cell_type": "markdown",
      "source": [
        "**Función de extracción de formantes**\n",
        "\n",
        "Si bien los audios con vocales son señales temporales, se aproximan por sus formates del espectro.\n",
        "\n",
        "`(https://www.fceia.unr.edu.ar/prodivoz/home_index.html)` | [Prodivoz](https://www.fceia.unr.edu.ar/prodivoz/home_index.html)"
      ],
      "metadata": {
        "id": "JIx4-QmExoiC"
      }
    },
    {
      "cell_type": "code",
      "source": [
        "folder_wav_contents=glob.glob('proyecto_vocales/data/raw/wav/*.wav')\n",
        "df=prepare_dataframe(folder_wav_contents,funcion='lpc_rf')"
      ],
      "metadata": {
        "id": "-wFZeuSwo1wX"
      },
      "execution_count": 10,
      "outputs": []
    },
    {
      "cell_type": "code",
      "execution_count": 11,
      "metadata": {
        "colab": {
          "base_uri": "https://localhost:8080/",
          "height": 206
        },
        "id": "N5uGc23siT3a",
        "outputId": "70a561ea-2d4b-445c-a297-b08857ab63a8"
      },
      "outputs": [
        {
          "output_type": "execute_result",
          "data": {
            "text/html": [
              "\n",
              "  <div id=\"df-bba8dd92-0ef8-4abc-8034-86db97edad17\">\n",
              "    <div class=\"colab-df-container\">\n",
              "      <div>\n",
              "<style scoped>\n",
              "    .dataframe tbody tr th:only-of-type {\n",
              "        vertical-align: middle;\n",
              "    }\n",
              "\n",
              "    .dataframe tbody tr th {\n",
              "        vertical-align: top;\n",
              "    }\n",
              "\n",
              "    .dataframe thead th {\n",
              "        text-align: right;\n",
              "    }\n",
              "</style>\n",
              "<table border=\"1\" class=\"dataframe\">\n",
              "  <thead>\n",
              "    <tr style=\"text-align: right;\">\n",
              "      <th></th>\n",
              "      <th>0</th>\n",
              "      <th>1</th>\n",
              "      <th>target</th>\n",
              "    </tr>\n",
              "  </thead>\n",
              "  <tbody>\n",
              "    <tr>\n",
              "      <th>39</th>\n",
              "      <td>1002.0</td>\n",
              "      <td>1550.0</td>\n",
              "      <td>A</td>\n",
              "    </tr>\n",
              "    <tr>\n",
              "      <th>40</th>\n",
              "      <td>948.0</td>\n",
              "      <td>1506.0</td>\n",
              "      <td>A</td>\n",
              "    </tr>\n",
              "    <tr>\n",
              "      <th>2</th>\n",
              "      <td>780.0</td>\n",
              "      <td>1214.0</td>\n",
              "      <td>A</td>\n",
              "    </tr>\n",
              "    <tr>\n",
              "      <th>4</th>\n",
              "      <td>766.0</td>\n",
              "      <td>1234.0</td>\n",
              "      <td>A</td>\n",
              "    </tr>\n",
              "    <tr>\n",
              "      <th>53</th>\n",
              "      <td>810.0</td>\n",
              "      <td>1250.0</td>\n",
              "      <td>A</td>\n",
              "    </tr>\n",
              "  </tbody>\n",
              "</table>\n",
              "</div>\n",
              "      <button class=\"colab-df-convert\" onclick=\"convertToInteractive('df-bba8dd92-0ef8-4abc-8034-86db97edad17')\"\n",
              "              title=\"Convert this dataframe to an interactive table.\"\n",
              "              style=\"display:none;\">\n",
              "        \n",
              "  <svg xmlns=\"http://www.w3.org/2000/svg\" height=\"24px\"viewBox=\"0 0 24 24\"\n",
              "       width=\"24px\">\n",
              "    <path d=\"M0 0h24v24H0V0z\" fill=\"none\"/>\n",
              "    <path d=\"M18.56 5.44l.94 2.06.94-2.06 2.06-.94-2.06-.94-.94-2.06-.94 2.06-2.06.94zm-11 1L8.5 8.5l.94-2.06 2.06-.94-2.06-.94L8.5 2.5l-.94 2.06-2.06.94zm10 10l.94 2.06.94-2.06 2.06-.94-2.06-.94-.94-2.06-.94 2.06-2.06.94z\"/><path d=\"M17.41 7.96l-1.37-1.37c-.4-.4-.92-.59-1.43-.59-.52 0-1.04.2-1.43.59L10.3 9.45l-7.72 7.72c-.78.78-.78 2.05 0 2.83L4 21.41c.39.39.9.59 1.41.59.51 0 1.02-.2 1.41-.59l7.78-7.78 2.81-2.81c.8-.78.8-2.07 0-2.86zM5.41 20L4 18.59l7.72-7.72 1.47 1.35L5.41 20z\"/>\n",
              "  </svg>\n",
              "      </button>\n",
              "      \n",
              "  <style>\n",
              "    .colab-df-container {\n",
              "      display:flex;\n",
              "      flex-wrap:wrap;\n",
              "      gap: 12px;\n",
              "    }\n",
              "\n",
              "    .colab-df-convert {\n",
              "      background-color: #E8F0FE;\n",
              "      border: none;\n",
              "      border-radius: 50%;\n",
              "      cursor: pointer;\n",
              "      display: none;\n",
              "      fill: #1967D2;\n",
              "      height: 32px;\n",
              "      padding: 0 0 0 0;\n",
              "      width: 32px;\n",
              "    }\n",
              "\n",
              "    .colab-df-convert:hover {\n",
              "      background-color: #E2EBFA;\n",
              "      box-shadow: 0px 1px 2px rgba(60, 64, 67, 0.3), 0px 1px 3px 1px rgba(60, 64, 67, 0.15);\n",
              "      fill: #174EA6;\n",
              "    }\n",
              "\n",
              "    [theme=dark] .colab-df-convert {\n",
              "      background-color: #3B4455;\n",
              "      fill: #D2E3FC;\n",
              "    }\n",
              "\n",
              "    [theme=dark] .colab-df-convert:hover {\n",
              "      background-color: #434B5C;\n",
              "      box-shadow: 0px 1px 3px 1px rgba(0, 0, 0, 0.15);\n",
              "      filter: drop-shadow(0px 1px 2px rgba(0, 0, 0, 0.3));\n",
              "      fill: #FFFFFF;\n",
              "    }\n",
              "  </style>\n",
              "\n",
              "      <script>\n",
              "        const buttonEl =\n",
              "          document.querySelector('#df-bba8dd92-0ef8-4abc-8034-86db97edad17 button.colab-df-convert');\n",
              "        buttonEl.style.display =\n",
              "          google.colab.kernel.accessAllowed ? 'block' : 'none';\n",
              "\n",
              "        async function convertToInteractive(key) {\n",
              "          const element = document.querySelector('#df-bba8dd92-0ef8-4abc-8034-86db97edad17');\n",
              "          const dataTable =\n",
              "            await google.colab.kernel.invokeFunction('convertToInteractive',\n",
              "                                                     [key], {});\n",
              "          if (!dataTable) return;\n",
              "\n",
              "          const docLinkHtml = 'Like what you see? Visit the ' +\n",
              "            '<a target=\"_blank\" href=https://colab.research.google.com/notebooks/data_table.ipynb>data table notebook</a>'\n",
              "            + ' to learn more about interactive tables.';\n",
              "          element.innerHTML = '';\n",
              "          dataTable['output_type'] = 'display_data';\n",
              "          await google.colab.output.renderOutput(dataTable, element);\n",
              "          const docLink = document.createElement('div');\n",
              "          docLink.innerHTML = docLinkHtml;\n",
              "          element.appendChild(docLink);\n",
              "        }\n",
              "      </script>\n",
              "    </div>\n",
              "  </div>\n",
              "  "
            ],
            "text/plain": [
              "         0       1 target\n",
              "39  1002.0  1550.0      A\n",
              "40   948.0  1506.0      A\n",
              "2    780.0  1214.0      A\n",
              "4    766.0  1234.0      A\n",
              "53   810.0  1250.0      A"
            ]
          },
          "metadata": {},
          "execution_count": 11
        }
      ],
      "source": [
        "df.head()"
      ]
    },
    {
      "cell_type": "code",
      "execution_count": 50,
      "metadata": {
        "id": "EPnaUv8ypske",
        "outputId": "fab29a23-788d-4e95-b187-55d766e80651",
        "colab": {
          "base_uri": "https://localhost:8080/"
        }
      },
      "outputs": [
        {
          "output_type": "execute_result",
          "data": {
            "text/plain": [
              "Index([0, 1, 'target'], dtype='object')"
            ]
          },
          "metadata": {},
          "execution_count": 50
        }
      ],
      "source": [
        "df.columns"
      ]
    },
    {
      "cell_type": "markdown",
      "source": [
        "**Alternativa para extraer formantes Praat**\n",
        "\n",
        "`(https://parselmouth.readthedocs.io/en/stable/)` | [Parselmouth](https://parselmouth.readthedocs.io/en/stable/) \n"
      ],
      "metadata": {
        "id": "KjubCL8a2XN8"
      }
    },
    {
      "cell_type": "code",
      "source": [
        "def extract_praat(file_path):\n",
        "    sound = parselmouth.Sound(file_path)\n",
        "    formants = praat.call(sound, \"To Formant (burg)\", 0.025, 5, 8000, 0.05, 50)# 5 formantes recomendado\n",
        "    f1_list = []\n",
        "    f2_list = []\n",
        "    f_mean=[]\n",
        "    #f3_list = []\n",
        "    for i in range(2, formants.get_number_of_frames()+1):\n",
        "        f1 = formants.get_value_at_time(1, formants.get_time_step()*i)\n",
        "        f2 = formants.get_value_at_time(2, formants.get_time_step()*i)\n",
        "        f3 = formants.get_value_at_time(3, formants.get_time_step()*i)\n",
        "        f1_list.append(f1)\n",
        "        f2_list.append(f2)\n",
        "        #f3_list.append(f3)\n",
        "    f_mean.append(np.mean(f1_list))\n",
        "    f_mean.append(np.mean(f2_list))\n",
        "    #f_mean.append(np.median(f3_list))\n",
        "    return pd.DataFrame(f_mean).transpose()"
      ],
      "metadata": {
        "id": "iMENZdw135mv"
      },
      "execution_count": 8,
      "outputs": []
    },
    {
      "cell_type": "code",
      "source": [
        "folder_wav_contents=glob.glob('proyecto_vocales/data/raw/wav/*.wav')\n",
        "\n",
        "df=pd.DataFrame()\n",
        "for file_path in folder_wav_contents:\n",
        "    filename = Path(file_path).stem\n",
        "    filename_parts = filename.split('_')\n",
        "    metadata = {'file_path': file_path,\n",
        "              'vocal': filename_parts[0],\n",
        "              'id': filename_parts[1]}\n",
        "    df1=extract_praat(file_path)\n",
        "    df1['target']=filename_parts[0]\n",
        "    df=pd.concat([df, df1], axis=0).reset_index(drop=True)\n",
        "\n",
        "df['target']=df['target'].str.upper()\n",
        "df.sort_values(by=['target'], ascending=True,inplace=True)"
      ],
      "metadata": {
        "id": "fvzgzhlh3jrX"
      },
      "execution_count": 9,
      "outputs": []
    },
    {
      "cell_type": "markdown",
      "metadata": {
        "id": "PEKBYGarpskg"
      },
      "source": [
        "## 3. Analisis Exploratorio"
      ]
    },
    {
      "cell_type": "code",
      "execution_count": 12,
      "metadata": {
        "colab": {
          "base_uri": "https://localhost:8080/",
          "height": 515
        },
        "id": "9ukW_aXDpXZo",
        "outputId": "bfc390e3-3026-4851-f3bf-d441ee9b6dbd"
      },
      "outputs": [
        {
          "output_type": "execute_result",
          "data": {
            "text/plain": [
              "<matplotlib.axes._subplots.AxesSubplot at 0x7f3daff1ed90>"
            ]
          },
          "metadata": {},
          "execution_count": 12
        },
        {
          "output_type": "display_data",
          "data": {
            "image/png": "[encoded data removed]",
            "text/plain": [
              "<Figure size 1080x576 with 1 Axes>"
            ]
          },
          "metadata": {
            "needs_background": "light"
          }
        }
      ],
      "source": [
        "plt.figure(figsize=(15,8))\n",
        "sns.scatterplot(x=0,y=1,hue='target',palette={'A':'r','E':'b','I':'k','O':'g','U':'y'},data=df,legend='brief')"
      ]
    },
    {
      "cell_type": "markdown",
      "metadata": {
        "id": "mWgMm9Wnpskj"
      },
      "source": [
        "### 3.1 Atributo 0"
      ]
    },
    {
      "cell_type": "code",
      "execution_count": 13,
      "metadata": {
        "id": "UVfmup8Ppskk",
        "outputId": "d93e9c20-2cfc-474f-e96b-4acf356c6b6a",
        "colab": {
          "base_uri": "https://localhost:8080/",
          "height": 515
        }
      },
      "outputs": [
        {
          "output_type": "execute_result",
          "data": {
            "text/plain": [
              "<matplotlib.axes._subplots.AxesSubplot at 0x7f3daff1e350>"
            ]
          },
          "metadata": {},
          "execution_count": 13
        },
        {
          "output_type": "display_data",
          "data": {
            "image/png": "[encoded data removed]",
            "text/plain": [
              "<Figure size 1080x576 with 1 Axes>"
            ]
          },
          "metadata": {
            "needs_background": "light"
          }
        }
      ],
      "source": [
        "plt.figure(figsize=(15,8))\n",
        "sns.kdeplot(data=df, x=0, hue=\"target\")"
      ]
    },
    {
      "cell_type": "code",
      "execution_count": 14,
      "metadata": {
        "id": "YfjYKtg4pskm",
        "outputId": "99d992c1-2ebf-4135-d2d9-51dee888b745",
        "colab": {
          "base_uri": "https://localhost:8080/",
          "height": 387
        }
      },
      "outputs": [
        {
          "output_type": "execute_result",
          "data": {
            "text/plain": [
              "<seaborn.axisgrid.FacetGrid at 0x7f3dafff2910>"
            ]
          },
          "metadata": {},
          "execution_count": 14
        },
        {
          "output_type": "display_data",
          "data": {
            "image/png": "[encoded data removed]",
            "text/plain": [
              "<Figure size 360x360 with 1 Axes>"
            ]
          },
          "metadata": {
            "needs_background": "light"
          }
        }
      ],
      "source": [
        "sns.catplot(x=\"target\", y=0, kind=\"box\", data=df)"
      ]
    },
    {
      "cell_type": "markdown",
      "metadata": {
        "id": "URH54iCbpskn"
      },
      "source": [
        "### 3.2 Atributo 2"
      ]
    },
    {
      "cell_type": "code",
      "execution_count": 15,
      "metadata": {
        "id": "xPU611QNpskn",
        "outputId": "239d3e64-929f-4557-b24d-85215f22e748",
        "colab": {
          "base_uri": "https://localhost:8080/",
          "height": 515
        }
      },
      "outputs": [
        {
          "output_type": "execute_result",
          "data": {
            "text/plain": [
              "<matplotlib.axes._subplots.AxesSubplot at 0x7f3dafe14d10>"
            ]
          },
          "metadata": {},
          "execution_count": 15
        },
        {
          "output_type": "display_data",
          "data": {
            "image/png": "[encoded data removed]",
            "text/plain": [
              "<Figure size 1080x576 with 1 Axes>"
            ]
          },
          "metadata": {
            "needs_background": "light"
          }
        }
      ],
      "source": [
        "plt.figure(figsize=(15,8))\n",
        "sns.kdeplot(data=df, x=1, hue=\"target\")"
      ]
    },
    {
      "cell_type": "code",
      "execution_count": 16,
      "metadata": {
        "id": "-dmhmbZ4psko",
        "outputId": "d222e8eb-6786-4f4a-9bbb-3b670996e8eb",
        "colab": {
          "base_uri": "https://localhost:8080/",
          "height": 387
        }
      },
      "outputs": [
        {
          "output_type": "execute_result",
          "data": {
            "text/plain": [
              "<seaborn.axisgrid.FacetGrid at 0x7f3daff2a450>"
            ]
          },
          "metadata": {},
          "execution_count": 16
        },
        {
          "output_type": "display_data",
          "data": {
            "image/png": "[encoded data removed]",
            "text/plain": [
              "<Figure size 360x360 with 1 Axes>"
            ]
          },
          "metadata": {
            "needs_background": "light"
          }
        }
      ],
      "source": [
        "sns.catplot(x=\"target\", y=1, kind=\"box\", data=df)"
      ]
    },
    {
      "cell_type": "markdown",
      "metadata": {
        "id": "1RN9xDbfpskp"
      },
      "source": [
        "### 3.3 Target"
      ]
    },
    {
      "cell_type": "code",
      "execution_count": 17,
      "metadata": {
        "id": "AgGmkvbDpskp",
        "outputId": "a0296dae-a4b1-4cb0-99ee-0d854e915575",
        "colab": {
          "base_uri": "https://localhost:8080/",
          "height": 297
        }
      },
      "outputs": [
        {
          "output_type": "execute_result",
          "data": {
            "text/plain": [
              "<matplotlib.axes._subplots.AxesSubplot at 0x7f3dafdd52d0>"
            ]
          },
          "metadata": {},
          "execution_count": 17
        },
        {
          "output_type": "display_data",
          "data": {
            "image/png": "[encoded data removed]",
            "text/plain": [
              "<Figure size 432x288 with 1 Axes>"
            ]
          },
          "metadata": {
            "needs_background": "light"
          }
        }
      ],
      "source": [
        "sns.countplot(x=\"target\", data=df)"
      ]
    },
    {
      "cell_type": "markdown",
      "metadata": {
        "id": "rxVyKTEHpskq"
      },
      "source": [
        "## 4. Metodos No Supervisados"
      ]
    },
    {
      "cell_type": "markdown",
      "metadata": {
        "id": "cCQilplSuMBm"
      },
      "source": [
        "### 4.1 Método kmeans"
      ]
    },
    {
      "cell_type": "code",
      "execution_count": 18,
      "metadata": {
        "id": "jpm8ywdMrafS",
        "outputId": "b28efab4-7081-4025-8951-d571992f8dec",
        "colab": {
          "base_uri": "https://localhost:8080/",
          "height": 206
        }
      },
      "outputs": [
        {
          "output_type": "execute_result",
          "data": {
            "text/html": [
              "\n",
              "  <div id=\"df-10b1678a-04fb-422e-a8a8-3ea00bb46932\">\n",
              "    <div class=\"colab-df-container\">\n",
              "      <div>\n",
              "<style scoped>\n",
              "    .dataframe tbody tr th:only-of-type {\n",
              "        vertical-align: middle;\n",
              "    }\n",
              "\n",
              "    .dataframe tbody tr th {\n",
              "        vertical-align: top;\n",
              "    }\n",
              "\n",
              "    .dataframe thead th {\n",
              "        text-align: right;\n",
              "    }\n",
              "</style>\n",
              "<table border=\"1\" class=\"dataframe\">\n",
              "  <thead>\n",
              "    <tr style=\"text-align: right;\">\n",
              "      <th></th>\n",
              "      <th>0</th>\n",
              "      <th>1</th>\n",
              "    </tr>\n",
              "  </thead>\n",
              "  <tbody>\n",
              "    <tr>\n",
              "      <th>39</th>\n",
              "      <td>1002.0</td>\n",
              "      <td>1550.0</td>\n",
              "    </tr>\n",
              "    <tr>\n",
              "      <th>40</th>\n",
              "      <td>948.0</td>\n",
              "      <td>1506.0</td>\n",
              "    </tr>\n",
              "    <tr>\n",
              "      <th>2</th>\n",
              "      <td>780.0</td>\n",
              "      <td>1214.0</td>\n",
              "    </tr>\n",
              "    <tr>\n",
              "      <th>4</th>\n",
              "      <td>766.0</td>\n",
              "      <td>1234.0</td>\n",
              "    </tr>\n",
              "    <tr>\n",
              "      <th>53</th>\n",
              "      <td>810.0</td>\n",
              "      <td>1250.0</td>\n",
              "    </tr>\n",
              "  </tbody>\n",
              "</table>\n",
              "</div>\n",
              "      <button class=\"colab-df-convert\" onclick=\"convertToInteractive('df-10b1678a-04fb-422e-a8a8-3ea00bb46932')\"\n",
              "              title=\"Convert this dataframe to an interactive table.\"\n",
              "              style=\"display:none;\">\n",
              "        \n",
              "  <svg xmlns=\"http://www.w3.org/2000/svg\" height=\"24px\"viewBox=\"0 0 24 24\"\n",
              "       width=\"24px\">\n",
              "    <path d=\"M0 0h24v24H0V0z\" fill=\"none\"/>\n",
              "    <path d=\"M18.56 5.44l.94 2.06.94-2.06 2.06-.94-2.06-.94-.94-2.06-.94 2.06-2.06.94zm-11 1L8.5 8.5l.94-2.06 2.06-.94-2.06-.94L8.5 2.5l-.94 2.06-2.06.94zm10 10l.94 2.06.94-2.06 2.06-.94-2.06-.94-.94-2.06-.94 2.06-2.06.94z\"/><path d=\"M17.41 7.96l-1.37-1.37c-.4-.4-.92-.59-1.43-.59-.52 0-1.04.2-1.43.59L10.3 9.45l-7.72 7.72c-.78.78-.78 2.05 0 2.83L4 21.41c.39.39.9.59 1.41.59.51 0 1.02-.2 1.41-.59l7.78-7.78 2.81-2.81c.8-.78.8-2.07 0-2.86zM5.41 20L4 18.59l7.72-7.72 1.47 1.35L5.41 20z\"/>\n",
              "  </svg>\n",
              "      </button>\n",
              "      \n",
              "  <style>\n",
              "    .colab-df-container {\n",
              "      display:flex;\n",
              "      flex-wrap:wrap;\n",
              "      gap: 12px;\n",
              "    }\n",
              "\n",
              "    .colab-df-convert {\n",
              "      background-color: #E8F0FE;\n",
              "      border: none;\n",
              "      border-radius: 50%;\n",
              "      cursor: pointer;\n",
              "      display: none;\n",
              "      fill: #1967D2;\n",
              "      height: 32px;\n",
              "      padding: 0 0 0 0;\n",
              "      width: 32px;\n",
              "    }\n",
              "\n",
              "    .colab-df-convert:hover {\n",
              "      background-color: #E2EBFA;\n",
              "      box-shadow: 0px 1px 2px rgba(60, 64, 67, 0.3), 0px 1px 3px 1px rgba(60, 64, 67, 0.15);\n",
              "      fill: #174EA6;\n",
              "    }\n",
              "\n",
              "    [theme=dark] .colab-df-convert {\n",
              "      background-color: #3B4455;\n",
              "      fill: #D2E3FC;\n",
              "    }\n",
              "\n",
              "    [theme=dark] .colab-df-convert:hover {\n",
              "      background-color: #434B5C;\n",
              "      box-shadow: 0px 1px 3px 1px rgba(0, 0, 0, 0.15);\n",
              "      filter: drop-shadow(0px 1px 2px rgba(0, 0, 0, 0.3));\n",
              "      fill: #FFFFFF;\n",
              "    }\n",
              "  </style>\n",
              "\n",
              "      <script>\n",
              "        const buttonEl =\n",
              "          document.querySelector('#df-10b1678a-04fb-422e-a8a8-3ea00bb46932 button.colab-df-convert');\n",
              "        buttonEl.style.display =\n",
              "          google.colab.kernel.accessAllowed ? 'block' : 'none';\n",
              "\n",
              "        async function convertToInteractive(key) {\n",
              "          const element = document.querySelector('#df-10b1678a-04fb-422e-a8a8-3ea00bb46932');\n",
              "          const dataTable =\n",
              "            await google.colab.kernel.invokeFunction('convertToInteractive',\n",
              "                                                     [key], {});\n",
              "          if (!dataTable) return;\n",
              "\n",
              "          const docLinkHtml = 'Like what you see? Visit the ' +\n",
              "            '<a target=\"_blank\" href=https://colab.research.google.com/notebooks/data_table.ipynb>data table notebook</a>'\n",
              "            + ' to learn more about interactive tables.';\n",
              "          element.innerHTML = '';\n",
              "          dataTable['output_type'] = 'display_data';\n",
              "          await google.colab.output.renderOutput(dataTable, element);\n",
              "          const docLink = document.createElement('div');\n",
              "          docLink.innerHTML = docLinkHtml;\n",
              "          element.appendChild(docLink);\n",
              "        }\n",
              "      </script>\n",
              "    </div>\n",
              "  </div>\n",
              "  "
            ],
            "text/plain": [
              "         0       1\n",
              "39  1002.0  1550.0\n",
              "40   948.0  1506.0\n",
              "2    780.0  1214.0\n",
              "4    766.0  1234.0\n",
              "53   810.0  1250.0"
            ]
          },
          "metadata": {},
          "execution_count": 18
        }
      ],
      "source": [
        "X=df[[0,1]]\n",
        "X.head()"
      ]
    },
    {
      "cell_type": "code",
      "execution_count": 19,
      "metadata": {
        "id": "L3-1LwgArfI3",
        "outputId": "5e3978a6-2654-4187-bb02-84cf41da8cce",
        "colab": {
          "base_uri": "https://localhost:8080/",
          "height": 206
        }
      },
      "outputs": [
        {
          "output_type": "execute_result",
          "data": {
            "text/html": [
              "\n",
              "  <div id=\"df-9a584759-4cf9-41f8-8464-5fe53c3c4cc6\">\n",
              "    <div class=\"colab-df-container\">\n",
              "      <div>\n",
              "<style scoped>\n",
              "    .dataframe tbody tr th:only-of-type {\n",
              "        vertical-align: middle;\n",
              "    }\n",
              "\n",
              "    .dataframe tbody tr th {\n",
              "        vertical-align: top;\n",
              "    }\n",
              "\n",
              "    .dataframe thead th {\n",
              "        text-align: right;\n",
              "    }\n",
              "</style>\n",
              "<table border=\"1\" class=\"dataframe\">\n",
              "  <thead>\n",
              "    <tr style=\"text-align: right;\">\n",
              "      <th></th>\n",
              "      <th>target</th>\n",
              "    </tr>\n",
              "  </thead>\n",
              "  <tbody>\n",
              "    <tr>\n",
              "      <th>39</th>\n",
              "      <td>A</td>\n",
              "    </tr>\n",
              "    <tr>\n",
              "      <th>40</th>\n",
              "      <td>A</td>\n",
              "    </tr>\n",
              "    <tr>\n",
              "      <th>2</th>\n",
              "      <td>A</td>\n",
              "    </tr>\n",
              "    <tr>\n",
              "      <th>4</th>\n",
              "      <td>A</td>\n",
              "    </tr>\n",
              "    <tr>\n",
              "      <th>53</th>\n",
              "      <td>A</td>\n",
              "    </tr>\n",
              "  </tbody>\n",
              "</table>\n",
              "</div>\n",
              "      <button class=\"colab-df-convert\" onclick=\"convertToInteractive('df-9a584759-4cf9-41f8-8464-5fe53c3c4cc6')\"\n",
              "              title=\"Convert this dataframe to an interactive table.\"\n",
              "              style=\"display:none;\">\n",
              "        \n",
              "  <svg xmlns=\"http://www.w3.org/2000/svg\" height=\"24px\"viewBox=\"0 0 24 24\"\n",
              "       width=\"24px\">\n",
              "    <path d=\"M0 0h24v24H0V0z\" fill=\"none\"/>\n",
              "    <path d=\"M18.56 5.44l.94 2.06.94-2.06 2.06-.94-2.06-.94-.94-2.06-.94 2.06-2.06.94zm-11 1L8.5 8.5l.94-2.06 2.06-.94-2.06-.94L8.5 2.5l-.94 2.06-2.06.94zm10 10l.94 2.06.94-2.06 2.06-.94-2.06-.94-.94-2.06-.94 2.06-2.06.94z\"/><path d=\"M17.41 7.96l-1.37-1.37c-.4-.4-.92-.59-1.43-.59-.52 0-1.04.2-1.43.59L10.3 9.45l-7.72 7.72c-.78.78-.78 2.05 0 2.83L4 21.41c.39.39.9.59 1.41.59.51 0 1.02-.2 1.41-.59l7.78-7.78 2.81-2.81c.8-.78.8-2.07 0-2.86zM5.41 20L4 18.59l7.72-7.72 1.47 1.35L5.41 20z\"/>\n",
              "  </svg>\n",
              "      </button>\n",
              "      \n",
              "  <style>\n",
              "    .colab-df-container {\n",
              "      display:flex;\n",
              "      flex-wrap:wrap;\n",
              "      gap: 12px;\n",
              "    }\n",
              "\n",
              "    .colab-df-convert {\n",
              "      background-color: #E8F0FE;\n",
              "      border: none;\n",
              "      border-radius: 50%;\n",
              "      cursor: pointer;\n",
              "      display: none;\n",
              "      fill: #1967D2;\n",
              "      height: 32px;\n",
              "      padding: 0 0 0 0;\n",
              "      width: 32px;\n",
              "    }\n",
              "\n",
              "    .colab-df-convert:hover {\n",
              "      background-color: #E2EBFA;\n",
              "      box-shadow: 0px 1px 2px rgba(60, 64, 67, 0.3), 0px 1px 3px 1px rgba(60, 64, 67, 0.15);\n",
              "      fill: #174EA6;\n",
              "    }\n",
              "\n",
              "    [theme=dark] .colab-df-convert {\n",
              "      background-color: #3B4455;\n",
              "      fill: #D2E3FC;\n",
              "    }\n",
              "\n",
              "    [theme=dark] .colab-df-convert:hover {\n",
              "      background-color: #434B5C;\n",
              "      box-shadow: 0px 1px 3px 1px rgba(0, 0, 0, 0.15);\n",
              "      filter: drop-shadow(0px 1px 2px rgba(0, 0, 0, 0.3));\n",
              "      fill: #FFFFFF;\n",
              "    }\n",
              "  </style>\n",
              "\n",
              "      <script>\n",
              "        const buttonEl =\n",
              "          document.querySelector('#df-9a584759-4cf9-41f8-8464-5fe53c3c4cc6 button.colab-df-convert');\n",
              "        buttonEl.style.display =\n",
              "          google.colab.kernel.accessAllowed ? 'block' : 'none';\n",
              "\n",
              "        async function convertToInteractive(key) {\n",
              "          const element = document.querySelector('#df-9a584759-4cf9-41f8-8464-5fe53c3c4cc6');\n",
              "          const dataTable =\n",
              "            await google.colab.kernel.invokeFunction('convertToInteractive',\n",
              "                                                     [key], {});\n",
              "          if (!dataTable) return;\n",
              "\n",
              "          const docLinkHtml = 'Like what you see? Visit the ' +\n",
              "            '<a target=\"_blank\" href=https://colab.research.google.com/notebooks/data_table.ipynb>data table notebook</a>'\n",
              "            + ' to learn more about interactive tables.';\n",
              "          element.innerHTML = '';\n",
              "          dataTable['output_type'] = 'display_data';\n",
              "          await google.colab.output.renderOutput(dataTable, element);\n",
              "          const docLink = document.createElement('div');\n",
              "          docLink.innerHTML = docLinkHtml;\n",
              "          element.appendChild(docLink);\n",
              "        }\n",
              "      </script>\n",
              "    </div>\n",
              "  </div>\n",
              "  "
            ],
            "text/plain": [
              "   target\n",
              "39      A\n",
              "40      A\n",
              "2       A\n",
              "4       A\n",
              "53      A"
            ]
          },
          "metadata": {},
          "execution_count": 19
        }
      ],
      "source": [
        "y=df[['target']]\n",
        "y.head()"
      ]
    },
    {
      "cell_type": "code",
      "execution_count": 20,
      "metadata": {
        "id": "Hie4oA0YrNjd"
      },
      "outputs": [],
      "source": [
        "kmeans = KMeans(n_clusters=5).fit(X)"
      ]
    },
    {
      "cell_type": "code",
      "execution_count": 21,
      "metadata": {
        "colab": {
          "base_uri": "https://localhost:8080/"
        },
        "id": "3wsEU3mJso5h",
        "outputId": "4bcd6499-f5fc-48cd-c13f-dbcc89e78c05"
      },
      "outputs": [
        {
          "output_type": "stream",
          "name": "stdout",
          "text": [
            "[4 4 4 4 4 4 1 4 4 4 4 4 3 0 3 3 3 3 3 3 0 3 0 3 0 3 0 3 0 0 3 0 0 0 3 0 1\n",
            " 2 2 1 1 1 1 1 1 1 1 1 2 2 2 2 2 2 2 2 2 2 2 2 2]\n",
            "[[ 348.         2484.        ]\n",
            " [ 544.54545455  930.        ]\n",
            " [ 326.53333333  697.33333333]\n",
            " [ 391.07692308 2050.        ]\n",
            " [ 860.54545455 1366.54545455]]\n"
          ]
        }
      ],
      "source": [
        "print(kmeans.labels_)\n",
        "print(kmeans.cluster_centers_)"
      ]
    },
    {
      "cell_type": "code",
      "execution_count": 22,
      "metadata": {
        "colab": {
          "base_uri": "https://localhost:8080/",
          "height": 389
        },
        "id": "c1b-OsHnsi7e",
        "outputId": "439bfd9c-b5a9-45f9-a946-72d444307c2c"
      },
      "outputs": [
        {
          "output_type": "execute_result",
          "data": {
            "text/plain": [
              "([], <a list of 0 Text major ticklabel objects>)"
            ]
          },
          "metadata": {},
          "execution_count": 22
        },
        {
          "output_type": "display_data",
          "data": {
            "image/png": "[encoded data removed]",
            "text/plain": [
              "<Figure size 576x432 with 1 Axes>"
            ]
          },
          "metadata": {}
        }
      ],
      "source": [
        "plt.figure(1, figsize=(8, 6))\n",
        "plt.clf()\n",
        "plt.scatter(X[0], X[1],c=kmeans.labels_, alpha=.5, edgecolor='k')\n",
        "plt.scatter(kmeans.cluster_centers_[:, 0], kmeans.cluster_centers_[:, 1], s=200, marker = '*', c='k', edgecolor=None)\n",
        "plt.xlabel('Formante 1 [Hz]')\n",
        "plt.ylabel('Formante 2 [Hz]')\n",
        "plt.xticks(())\n",
        "plt.yticks(())"
      ]
    },
    {
      "cell_type": "markdown",
      "metadata": {
        "id": "kRRSBWMcvZ_4"
      },
      "source": [
        "Análisis de clusters"
      ]
    },
    {
      "cell_type": "code",
      "execution_count": 23,
      "metadata": {
        "id": "9eFvt8PDAnVE"
      },
      "outputs": [],
      "source": [
        "tmp = pd.DataFrame({'Labels': df.target, 'Clusters': kmeans.labels_})# Create a DataFrame with labels and varieties as columns: df\n",
        "ct = pd.crosstab(tmp['Labels'], tmp['Clusters']) # Create crosstab: ct"
      ]
    },
    {
      "cell_type": "code",
      "execution_count": 24,
      "metadata": {
        "colab": {
          "base_uri": "https://localhost:8080/"
        },
        "id": "BHPEkX0bAuHE",
        "outputId": "a9d281d7-de4f-48f2-88cb-4f799d5ad643"
      },
      "outputs": [
        {
          "output_type": "stream",
          "name": "stdout",
          "text": [
            "Clusters  0   1   2  3   4\n",
            "Labels                    \n",
            "A         0   1   0  0  11\n",
            "E         3   0   0  9   0\n",
            "I         8   0   0  4   0\n",
            "O         0  10   2  0   0\n",
            "U         0   0  13  0   0\n"
          ]
        }
      ],
      "source": [
        "print(ct)"
      ]
    },
    {
      "cell_type": "code",
      "execution_count": 25,
      "metadata": {
        "id": "fZ9VrnT9A2WJ"
      },
      "outputs": [],
      "source": [
        "from sklearn.metrics import adjusted_rand_score\n",
        "ari0 = adjusted_rand_score(df.target, kmeans.labels_)"
      ]
    },
    {
      "cell_type": "code",
      "execution_count": 26,
      "metadata": {
        "colab": {
          "base_uri": "https://localhost:8080/"
        },
        "id": "43DYrPLwBMxG",
        "outputId": "85941e01-ef41-4c6e-d6a4-782388c97c7e"
      },
      "outputs": [
        {
          "output_type": "stream",
          "name": "stdout",
          "text": [
            "0.667814355479043\n"
          ]
        }
      ],
      "source": [
        "print(ari0)"
      ]
    },
    {
      "cell_type": "markdown",
      "source": [
        "De la matriz de confusión surge que las mayores confusiones se dan entre la E y la I."
      ],
      "metadata": {
        "id": "UmjxR34Pp-XE"
      }
    },
    {
      "cell_type": "markdown",
      "source": [
        "## 4.2 Método SVM"
      ],
      "metadata": {
        "id": "GVWJMzroqOK1"
      }
    },
    {
      "cell_type": "markdown",
      "source": [
        "Primero pruebo con dos vocales para hacer SVM binario. Pruebo con la E e I que aparecen algunas confusines en kmeans"
      ],
      "metadata": {
        "id": "DngEY7Bpqby3"
      }
    },
    {
      "cell_type": "code",
      "source": [
        "df2=df.loc[(df['target'] == 'E') | (df['target'] == 'I')]"
      ],
      "metadata": {
        "id": "87lXkSUaqZG8"
      },
      "execution_count": 27,
      "outputs": []
    },
    {
      "cell_type": "code",
      "source": [
        "X=np.array(df2[[0,1]].values)\n",
        "y=df2.iloc[:,2:].values.ravel()\n",
        "\n",
        "C = 1.0  # SVM regularization parameter\n",
        "clf = svm.SVC(kernel='linear', C=C)\n",
        "clf.fit(X, y)"
      ],
      "metadata": {
        "id": "6e1G1aLgqz-4",
        "outputId": "66bee0d3-1eab-44ac-d066-e0dba788e9b6",
        "colab": {
          "base_uri": "https://localhost:8080/"
        }
      },
      "execution_count": 28,
      "outputs": [
        {
          "output_type": "execute_result",
          "data": {
            "text/plain": [
              "SVC(kernel='linear')"
            ]
          },
          "metadata": {},
          "execution_count": 28
        }
      ]
    },
    {
      "cell_type": "markdown",
      "source": [
        "Los vectores son"
      ],
      "metadata": {
        "id": "VxfgoSrQq7jo"
      }
    },
    {
      "cell_type": "code",
      "source": [
        "clf.support_vectors_"
      ],
      "metadata": {
        "id": "03Kv8R5Iq6so",
        "outputId": "0d9e2d6a-bc69-4664-d83d-098dd8f8b3f0",
        "colab": {
          "base_uri": "https://localhost:8080/"
        }
      },
      "execution_count": 29,
      "outputs": [
        {
          "output_type": "execute_result",
          "data": {
            "text/plain": [
              "array([[ 374., 2026.],\n",
              "       [ 430., 2446.],\n",
              "       [ 310., 2060.]])"
            ]
          },
          "metadata": {},
          "execution_count": 29
        }
      ]
    },
    {
      "cell_type": "markdown",
      "source": [
        "código para dibujar"
      ],
      "metadata": {
        "id": "OpQ9SqwIrDO1"
      }
    },
    {
      "cell_type": "code",
      "source": [
        "codes = {'E': 0, 'I': 1}"
      ],
      "metadata": {
        "id": "j0GMgBEBrSGM"
      },
      "execution_count": 30,
      "outputs": []
    },
    {
      "cell_type": "code",
      "source": [
        "graph_svm(X,y,clf,codes,alpha=0.8)"
      ],
      "metadata": {
        "id": "-2Ik4ZduIRdy",
        "outputId": "426a8089-468e-4626-94ba-ea9e2b945bb6",
        "colab": {
          "base_uri": "https://localhost:8080/",
          "height": 279
        }
      },
      "execution_count": 31,
      "outputs": [
        {
          "output_type": "display_data",
          "data": {
            "image/png": "[encoded data removed]",
            "text/plain": [
              "<Figure size 432x288 with 1 Axes>"
            ]
          },
          "metadata": {
            "needs_background": "light"
          }
        }
      ]
    },
    {
      "cell_type": "markdown",
      "source": [
        "SVM multiclase"
      ],
      "metadata": {
        "id": "uAjuQgZA7vG8"
      }
    },
    {
      "cell_type": "code",
      "source": [
        "X=np.array(df[[0,1]].values)\n",
        "y=df.iloc[:,2:].values.ravel()\n",
        "\n",
        "C = 1.0  # SVM regularization parameter\n",
        "clf = svm.SVC(kernel='poly',degree=3, C=C) \n",
        "clf.fit(X, y)"
      ],
      "metadata": {
        "id": "EYo2rZx_733A",
        "outputId": "0f7bc6c6-725a-4c3a-8179-67e8904ec078",
        "colab": {
          "base_uri": "https://localhost:8080/"
        }
      },
      "execution_count": 32,
      "outputs": [
        {
          "output_type": "execute_result",
          "data": {
            "text/plain": [
              "SVC(kernel='poly')"
            ]
          },
          "metadata": {},
          "execution_count": 32
        }
      ]
    },
    {
      "cell_type": "code",
      "source": [
        "codes = {'A':0,'E': 1, 'I': 2, 'O':3, 'U':4}"
      ],
      "metadata": {
        "id": "JrAbjscu8XLq"
      },
      "execution_count": 33,
      "outputs": []
    },
    {
      "cell_type": "code",
      "source": [
        "graph_svm(X,y,clf,codes,alpha=0.2)"
      ],
      "metadata": {
        "id": "XBk62BfOIZPX",
        "outputId": "3a7b7d51-ba3f-42b2-e6d1-f0e66486442d",
        "colab": {
          "base_uri": "https://localhost:8080/",
          "height": 279
        }
      },
      "execution_count": 34,
      "outputs": [
        {
          "output_type": "display_data",
          "data": {
            "image/png": "[encoded data removed]",
            "text/plain": [
              "<Figure size 432x288 with 1 Axes>"
            ]
          },
          "metadata": {
            "needs_background": "light"
          }
        }
      ]
    },
    {
      "cell_type": "markdown",
      "metadata": {
        "id": "-iMUO4wmpskx"
      },
      "source": [
        "## 5. Metodos Supervisados"
      ]
    },
    {
      "cell_type": "markdown",
      "metadata": {
        "id": "kOouXJ_Tpsky"
      },
      "source": [
        "## 5.1 Separacion train / test"
      ]
    },
    {
      "cell_type": "code",
      "execution_count": null,
      "metadata": {
        "id": "Jb_ox9Bmpsky"
      },
      "outputs": [],
      "source": [
        "x_train,x_test,y_train,y_test = train_test_split(X,y,test_size=0.25,random_state=42,stratify=y)"
      ]
    },
    {
      "cell_type": "code",
      "execution_count": null,
      "metadata": {
        "id": "uBNXNKGrpsky",
        "outputId": "b281e32a-fb24-4368-ff32-fd74d0cc8538"
      },
      "outputs": [
        {
          "data": {
            "text/plain": [
              "(45, 2)"
            ]
          },
          "execution_count": 37,
          "metadata": {},
          "output_type": "execute_result"
        }
      ],
      "source": [
        "x_train.shape"
      ]
    },
    {
      "cell_type": "code",
      "execution_count": null,
      "metadata": {
        "id": "huS3pa3Zpskz",
        "outputId": "226e7a97-4ea1-4621-9bd7-724421f52ae6"
      },
      "outputs": [
        {
          "data": {
            "text/plain": [
              "(45, 1)"
            ]
          },
          "execution_count": 38,
          "metadata": {},
          "output_type": "execute_result"
        }
      ],
      "source": [
        "y_train.shape"
      ]
    },
    {
      "cell_type": "code",
      "execution_count": null,
      "metadata": {
        "id": "VzOFtM7bpskz",
        "outputId": "302c7076-557c-4701-99d5-fccb011e1969"
      },
      "outputs": [
        {
          "data": {
            "text/plain": [
              "target\n",
              "A         9\n",
              "E         9\n",
              "I         9\n",
              "O         9\n",
              "U         9\n",
              "dtype: int64"
            ]
          },
          "execution_count": 39,
          "metadata": {},
          "output_type": "execute_result"
        }
      ],
      "source": [
        "y_train.value_counts()"
      ]
    },
    {
      "cell_type": "code",
      "execution_count": null,
      "metadata": {
        "id": "ErStlrfmpsk0",
        "outputId": "1b682e9f-641c-482d-b235-9bf0b8cef029"
      },
      "outputs": [
        {
          "data": {
            "text/plain": [
              "(16, 2)"
            ]
          },
          "execution_count": 40,
          "metadata": {},
          "output_type": "execute_result"
        }
      ],
      "source": [
        "x_test.shape"
      ]
    },
    {
      "cell_type": "code",
      "execution_count": null,
      "metadata": {
        "id": "_w4QiJq1psk1",
        "outputId": "af7c92e5-4494-4fc6-8fe4-0f00be040812"
      },
      "outputs": [
        {
          "data": {
            "text/plain": [
              "(16, 1)"
            ]
          },
          "execution_count": 41,
          "metadata": {},
          "output_type": "execute_result"
        }
      ],
      "source": [
        "y_test.shape"
      ]
    },
    {
      "cell_type": "code",
      "execution_count": null,
      "metadata": {
        "id": "4jy9ciT4psk2",
        "outputId": "719b3acb-b048-49fb-ab95-d185c91a5122"
      },
      "outputs": [
        {
          "data": {
            "text/plain": [
              "target\n",
              "U         4\n",
              "A         3\n",
              "E         3\n",
              "I         3\n",
              "O         3\n",
              "dtype: int64"
            ]
          },
          "execution_count": 42,
          "metadata": {},
          "output_type": "execute_result"
        }
      ],
      "source": [
        "y_test.value_counts()"
      ]
    },
    {
      "cell_type": "markdown",
      "metadata": {
        "id": "njsWOLBYpsk2"
      },
      "source": [
        "## 5.2 Estandarizacion features numericos - Encoding del target"
      ]
    },
    {
      "cell_type": "markdown",
      "metadata": {
        "id": "lZU0FbVApsk3"
      },
      "source": [
        "Estandarizacion de los features numericos"
      ]
    },
    {
      "cell_type": "code",
      "execution_count": null,
      "metadata": {
        "id": "Du0G6UY8psk3"
      },
      "outputs": [],
      "source": [
        "num_scaler = StandardScaler()"
      ]
    },
    {
      "cell_type": "code",
      "execution_count": null,
      "metadata": {
        "id": "rF1unxrupsk4"
      },
      "outputs": [],
      "source": [
        "x_train = num_scaler.fit_transform(x_train)"
      ]
    },
    {
      "cell_type": "code",
      "execution_count": null,
      "metadata": {
        "id": "LMjMHJukpsk4"
      },
      "outputs": [],
      "source": [
        "x_test = num_scaler.transform(x_test)"
      ]
    },
    {
      "cell_type": "markdown",
      "metadata": {
        "id": "Dun-7rZkpsk4"
      },
      "source": [
        "Encoding del target categorico"
      ]
    },
    {
      "cell_type": "code",
      "execution_count": null,
      "metadata": {
        "id": "w7nekHfApsk5"
      },
      "outputs": [],
      "source": [
        "cat_encoder = LabelEncoder()"
      ]
    },
    {
      "cell_type": "code",
      "execution_count": null,
      "metadata": {
        "id": "hHpBYUvepsk5",
        "outputId": "3de52c2d-8b80-49ce-da71-81f7da933b5b"
      },
      "outputs": [
        {
          "name": "stderr",
          "output_type": "stream",
          "text": [
            "C:\\Users\\ccollado\\anaconda3\\lib\\site-packages\\sklearn\\utils\\validation.py:63: DataConversionWarning: A column-vector y was passed when a 1d array was expected. Please change the shape of y to (n_samples, ), for example using ravel().\n",
            "  return f(*args, **kwargs)\n"
          ]
        }
      ],
      "source": [
        "y_train = cat_encoder.fit_transform(y_train)"
      ]
    },
    {
      "cell_type": "code",
      "execution_count": null,
      "metadata": {
        "id": "2FLDIe-Tpsk5"
      },
      "outputs": [],
      "source": [
        "y_test = cat_encoder.transform(y_test)"
      ]
    },
    {
      "cell_type": "code",
      "execution_count": null,
      "metadata": {
        "id": "e3EK5CZ9psk6"
      },
      "outputs": [],
      "source": [
        ""
      ]
    },
    {
      "cell_type": "code",
      "execution_count": null,
      "metadata": {
        "id": "LqDKWR7hpsk6"
      },
      "outputs": [],
      "source": [
        ""
      ]
    },
    {
      "cell_type": "code",
      "execution_count": null,
      "metadata": {
        "id": "CASSNSF-psk6"
      },
      "outputs": [],
      "source": [
        ""
      ]
    },
    {
      "cell_type": "code",
      "execution_count": null,
      "metadata": {
        "id": "6_D7-nPxpsk7"
      },
      "outputs": [],
      "source": [
        ""
      ]
    },
    {
      "cell_type": "code",
      "execution_count": null,
      "metadata": {
        "id": "SwU4uEDWpsk7"
      },
      "outputs": [],
      "source": [
        ""
      ]
    },
    {
      "cell_type": "code",
      "execution_count": null,
      "metadata": {
        "id": "kDG0FM1xpsk7"
      },
      "outputs": [],
      "source": [
        ""
      ]
    },
    {
      "cell_type": "code",
      "execution_count": null,
      "metadata": {
        "id": "6TlF8--Fpsk7"
      },
      "outputs": [],
      "source": [
        ""
      ]
    }
  ],
  "metadata": {
    "colab": {
      "collapsed_sections": [],
      "name": "k_means_vocales.ipynb",
      "provenance": [],
      "include_colab_link": true
    },
    "kernelspec": {
      "display_name": "Python 3",
      "language": "python",
      "name": "python3"
    },
    "language_info": {
      "codemirror_mode": {
        "name": "ipython",
        "version": 3
      },
      "file_extension": ".py",
      "mimetype": "text/x-python",
      "name": "python",
      "nbconvert_exporter": "python",
      "pygments_lexer": "ipython3",
      "version": "3.8.8"
    }
  },
  "nbformat": 4,
  "nbformat_minor": 0
}